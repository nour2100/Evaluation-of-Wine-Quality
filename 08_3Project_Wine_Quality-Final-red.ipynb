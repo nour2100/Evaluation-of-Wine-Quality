{
 "cells": [
  {
   "cell_type": "code",
   "execution_count": 1,
   "id": "c9f9101a",
   "metadata": {},
   "outputs": [],
   "source": [
    "import pandas as pd\n",
    "import numpy as np\n",
    "import matplotlib.pyplot as plt\n",
    "import seaborn as sns\n",
    "from sklearn.preprocessing import LabelEncoder\n",
    "from sklearn.preprocessing import OrdinalEncoder\n",
    "from sklearn.preprocessing import OneHotEncoder"
   ]
  },
  {
   "cell_type": "code",
   "execution_count": 2,
   "id": "c2153207",
   "metadata": {},
   "outputs": [],
   "source": [
    "wine=pd.read_csv(\"winequality-red.csv\",sep=';')"
   ]
  },
  {
   "cell_type": "code",
   "execution_count": 3,
   "id": "e01563bc",
   "metadata": {},
   "outputs": [
    {
     "data": {
      "text/html": [
       "<div>\n",
       "<style scoped>\n",
       "    .dataframe tbody tr th:only-of-type {\n",
       "        vertical-align: middle;\n",
       "    }\n",
       "\n",
       "    .dataframe tbody tr th {\n",
       "        vertical-align: top;\n",
       "    }\n",
       "\n",
       "    .dataframe thead th {\n",
       "        text-align: right;\n",
       "    }\n",
       "</style>\n",
       "<table border=\"1\" class=\"dataframe\">\n",
       "  <thead>\n",
       "    <tr style=\"text-align: right;\">\n",
       "      <th></th>\n",
       "      <th>fixed acidity</th>\n",
       "      <th>volatile acidity</th>\n",
       "      <th>citric acid</th>\n",
       "      <th>residual sugar</th>\n",
       "      <th>chlorides</th>\n",
       "      <th>free sulfur dioxide</th>\n",
       "      <th>total sulfur dioxide</th>\n",
       "      <th>density</th>\n",
       "      <th>pH</th>\n",
       "      <th>sulphates</th>\n",
       "      <th>alcohol</th>\n",
       "      <th>quality</th>\n",
       "    </tr>\n",
       "  </thead>\n",
       "  <tbody>\n",
       "    <tr>\n",
       "      <th>0</th>\n",
       "      <td>7.4</td>\n",
       "      <td>0.70</td>\n",
       "      <td>0.00</td>\n",
       "      <td>1.9</td>\n",
       "      <td>0.076</td>\n",
       "      <td>11.0</td>\n",
       "      <td>34.0</td>\n",
       "      <td>0.9978</td>\n",
       "      <td>3.51</td>\n",
       "      <td>0.56</td>\n",
       "      <td>9.4</td>\n",
       "      <td>5</td>\n",
       "    </tr>\n",
       "    <tr>\n",
       "      <th>1</th>\n",
       "      <td>7.8</td>\n",
       "      <td>0.88</td>\n",
       "      <td>0.00</td>\n",
       "      <td>2.6</td>\n",
       "      <td>0.098</td>\n",
       "      <td>25.0</td>\n",
       "      <td>67.0</td>\n",
       "      <td>0.9968</td>\n",
       "      <td>3.20</td>\n",
       "      <td>0.68</td>\n",
       "      <td>9.8</td>\n",
       "      <td>5</td>\n",
       "    </tr>\n",
       "    <tr>\n",
       "      <th>2</th>\n",
       "      <td>7.8</td>\n",
       "      <td>0.76</td>\n",
       "      <td>0.04</td>\n",
       "      <td>2.3</td>\n",
       "      <td>0.092</td>\n",
       "      <td>15.0</td>\n",
       "      <td>54.0</td>\n",
       "      <td>0.9970</td>\n",
       "      <td>3.26</td>\n",
       "      <td>0.65</td>\n",
       "      <td>9.8</td>\n",
       "      <td>5</td>\n",
       "    </tr>\n",
       "    <tr>\n",
       "      <th>3</th>\n",
       "      <td>11.2</td>\n",
       "      <td>0.28</td>\n",
       "      <td>0.56</td>\n",
       "      <td>1.9</td>\n",
       "      <td>0.075</td>\n",
       "      <td>17.0</td>\n",
       "      <td>60.0</td>\n",
       "      <td>0.9980</td>\n",
       "      <td>3.16</td>\n",
       "      <td>0.58</td>\n",
       "      <td>9.8</td>\n",
       "      <td>6</td>\n",
       "    </tr>\n",
       "    <tr>\n",
       "      <th>4</th>\n",
       "      <td>7.4</td>\n",
       "      <td>0.70</td>\n",
       "      <td>0.00</td>\n",
       "      <td>1.9</td>\n",
       "      <td>0.076</td>\n",
       "      <td>11.0</td>\n",
       "      <td>34.0</td>\n",
       "      <td>0.9978</td>\n",
       "      <td>3.51</td>\n",
       "      <td>0.56</td>\n",
       "      <td>9.4</td>\n",
       "      <td>5</td>\n",
       "    </tr>\n",
       "  </tbody>\n",
       "</table>\n",
       "</div>"
      ],
      "text/plain": [
       "   fixed acidity  volatile acidity  citric acid  residual sugar  chlorides  \\\n",
       "0            7.4              0.70         0.00             1.9      0.076   \n",
       "1            7.8              0.88         0.00             2.6      0.098   \n",
       "2            7.8              0.76         0.04             2.3      0.092   \n",
       "3           11.2              0.28         0.56             1.9      0.075   \n",
       "4            7.4              0.70         0.00             1.9      0.076   \n",
       "\n",
       "   free sulfur dioxide  total sulfur dioxide  density    pH  sulphates  \\\n",
       "0                 11.0                  34.0   0.9978  3.51       0.56   \n",
       "1                 25.0                  67.0   0.9968  3.20       0.68   \n",
       "2                 15.0                  54.0   0.9970  3.26       0.65   \n",
       "3                 17.0                  60.0   0.9980  3.16       0.58   \n",
       "4                 11.0                  34.0   0.9978  3.51       0.56   \n",
       "\n",
       "   alcohol  quality  \n",
       "0      9.4        5  \n",
       "1      9.8        5  \n",
       "2      9.8        5  \n",
       "3      9.8        6  \n",
       "4      9.4        5  "
      ]
     },
     "execution_count": 3,
     "metadata": {},
     "output_type": "execute_result"
    }
   ],
   "source": [
    "wine.head()"
   ]
  },
  {
   "cell_type": "code",
   "execution_count": 4,
   "id": "66033d55",
   "metadata": {},
   "outputs": [
    {
     "data": {
      "text/plain": [
       "(1599, 12)"
      ]
     },
     "execution_count": 4,
     "metadata": {},
     "output_type": "execute_result"
    }
   ],
   "source": [
    "wine.shape"
   ]
  },
  {
   "cell_type": "code",
   "execution_count": 5,
   "id": "42e665c0",
   "metadata": {},
   "outputs": [
    {
     "name": "stdout",
     "output_type": "stream",
     "text": [
      "<class 'pandas.core.frame.DataFrame'>\n",
      "RangeIndex: 1599 entries, 0 to 1598\n",
      "Data columns (total 12 columns):\n",
      " #   Column                Non-Null Count  Dtype  \n",
      "---  ------                --------------  -----  \n",
      " 0   fixed acidity         1599 non-null   float64\n",
      " 1   volatile acidity      1599 non-null   float64\n",
      " 2   citric acid           1599 non-null   float64\n",
      " 3   residual sugar        1599 non-null   float64\n",
      " 4   chlorides             1599 non-null   float64\n",
      " 5   free sulfur dioxide   1599 non-null   float64\n",
      " 6   total sulfur dioxide  1599 non-null   float64\n",
      " 7   density               1599 non-null   float64\n",
      " 8   pH                    1599 non-null   float64\n",
      " 9   sulphates             1599 non-null   float64\n",
      " 10  alcohol               1599 non-null   float64\n",
      " 11  quality               1599 non-null   int64  \n",
      "dtypes: float64(11), int64(1)\n",
      "memory usage: 150.0 KB\n"
     ]
    }
   ],
   "source": [
    "wine.info()"
   ]
  },
  {
   "cell_type": "code",
   "execution_count": 6,
   "id": "2ac14827",
   "metadata": {},
   "outputs": [
    {
     "data": {
      "text/html": [
       "<div>\n",
       "<style scoped>\n",
       "    .dataframe tbody tr th:only-of-type {\n",
       "        vertical-align: middle;\n",
       "    }\n",
       "\n",
       "    .dataframe tbody tr th {\n",
       "        vertical-align: top;\n",
       "    }\n",
       "\n",
       "    .dataframe thead th {\n",
       "        text-align: right;\n",
       "    }\n",
       "</style>\n",
       "<table border=\"1\" class=\"dataframe\">\n",
       "  <thead>\n",
       "    <tr style=\"text-align: right;\">\n",
       "      <th></th>\n",
       "      <th>fixed acidity</th>\n",
       "      <th>volatile acidity</th>\n",
       "      <th>citric acid</th>\n",
       "      <th>residual sugar</th>\n",
       "      <th>chlorides</th>\n",
       "      <th>free sulfur dioxide</th>\n",
       "      <th>total sulfur dioxide</th>\n",
       "      <th>density</th>\n",
       "      <th>pH</th>\n",
       "      <th>sulphates</th>\n",
       "      <th>alcohol</th>\n",
       "      <th>quality</th>\n",
       "    </tr>\n",
       "  </thead>\n",
       "  <tbody>\n",
       "    <tr>\n",
       "      <th>count</th>\n",
       "      <td>1599.000000</td>\n",
       "      <td>1599.000000</td>\n",
       "      <td>1599.000000</td>\n",
       "      <td>1599.000000</td>\n",
       "      <td>1599.000000</td>\n",
       "      <td>1599.000000</td>\n",
       "      <td>1599.000000</td>\n",
       "      <td>1599.000000</td>\n",
       "      <td>1599.000000</td>\n",
       "      <td>1599.000000</td>\n",
       "      <td>1599.000000</td>\n",
       "      <td>1599.000000</td>\n",
       "    </tr>\n",
       "    <tr>\n",
       "      <th>mean</th>\n",
       "      <td>8.319637</td>\n",
       "      <td>0.527821</td>\n",
       "      <td>0.270976</td>\n",
       "      <td>2.538806</td>\n",
       "      <td>0.087467</td>\n",
       "      <td>15.874922</td>\n",
       "      <td>46.467792</td>\n",
       "      <td>0.996747</td>\n",
       "      <td>3.311113</td>\n",
       "      <td>0.658149</td>\n",
       "      <td>10.422983</td>\n",
       "      <td>5.636023</td>\n",
       "    </tr>\n",
       "    <tr>\n",
       "      <th>std</th>\n",
       "      <td>1.741096</td>\n",
       "      <td>0.179060</td>\n",
       "      <td>0.194801</td>\n",
       "      <td>1.409928</td>\n",
       "      <td>0.047065</td>\n",
       "      <td>10.460157</td>\n",
       "      <td>32.895324</td>\n",
       "      <td>0.001887</td>\n",
       "      <td>0.154386</td>\n",
       "      <td>0.169507</td>\n",
       "      <td>1.065668</td>\n",
       "      <td>0.807569</td>\n",
       "    </tr>\n",
       "    <tr>\n",
       "      <th>min</th>\n",
       "      <td>4.600000</td>\n",
       "      <td>0.120000</td>\n",
       "      <td>0.000000</td>\n",
       "      <td>0.900000</td>\n",
       "      <td>0.012000</td>\n",
       "      <td>1.000000</td>\n",
       "      <td>6.000000</td>\n",
       "      <td>0.990070</td>\n",
       "      <td>2.740000</td>\n",
       "      <td>0.330000</td>\n",
       "      <td>8.400000</td>\n",
       "      <td>3.000000</td>\n",
       "    </tr>\n",
       "    <tr>\n",
       "      <th>25%</th>\n",
       "      <td>7.100000</td>\n",
       "      <td>0.390000</td>\n",
       "      <td>0.090000</td>\n",
       "      <td>1.900000</td>\n",
       "      <td>0.070000</td>\n",
       "      <td>7.000000</td>\n",
       "      <td>22.000000</td>\n",
       "      <td>0.995600</td>\n",
       "      <td>3.210000</td>\n",
       "      <td>0.550000</td>\n",
       "      <td>9.500000</td>\n",
       "      <td>5.000000</td>\n",
       "    </tr>\n",
       "    <tr>\n",
       "      <th>50%</th>\n",
       "      <td>7.900000</td>\n",
       "      <td>0.520000</td>\n",
       "      <td>0.260000</td>\n",
       "      <td>2.200000</td>\n",
       "      <td>0.079000</td>\n",
       "      <td>14.000000</td>\n",
       "      <td>38.000000</td>\n",
       "      <td>0.996750</td>\n",
       "      <td>3.310000</td>\n",
       "      <td>0.620000</td>\n",
       "      <td>10.200000</td>\n",
       "      <td>6.000000</td>\n",
       "    </tr>\n",
       "    <tr>\n",
       "      <th>75%</th>\n",
       "      <td>9.200000</td>\n",
       "      <td>0.640000</td>\n",
       "      <td>0.420000</td>\n",
       "      <td>2.600000</td>\n",
       "      <td>0.090000</td>\n",
       "      <td>21.000000</td>\n",
       "      <td>62.000000</td>\n",
       "      <td>0.997835</td>\n",
       "      <td>3.400000</td>\n",
       "      <td>0.730000</td>\n",
       "      <td>11.100000</td>\n",
       "      <td>6.000000</td>\n",
       "    </tr>\n",
       "    <tr>\n",
       "      <th>max</th>\n",
       "      <td>15.900000</td>\n",
       "      <td>1.580000</td>\n",
       "      <td>1.000000</td>\n",
       "      <td>15.500000</td>\n",
       "      <td>0.611000</td>\n",
       "      <td>72.000000</td>\n",
       "      <td>289.000000</td>\n",
       "      <td>1.003690</td>\n",
       "      <td>4.010000</td>\n",
       "      <td>2.000000</td>\n",
       "      <td>14.900000</td>\n",
       "      <td>8.000000</td>\n",
       "    </tr>\n",
       "  </tbody>\n",
       "</table>\n",
       "</div>"
      ],
      "text/plain": [
       "       fixed acidity  volatile acidity  citric acid  residual sugar  \\\n",
       "count    1599.000000       1599.000000  1599.000000     1599.000000   \n",
       "mean        8.319637          0.527821     0.270976        2.538806   \n",
       "std         1.741096          0.179060     0.194801        1.409928   \n",
       "min         4.600000          0.120000     0.000000        0.900000   \n",
       "25%         7.100000          0.390000     0.090000        1.900000   \n",
       "50%         7.900000          0.520000     0.260000        2.200000   \n",
       "75%         9.200000          0.640000     0.420000        2.600000   \n",
       "max        15.900000          1.580000     1.000000       15.500000   \n",
       "\n",
       "         chlorides  free sulfur dioxide  total sulfur dioxide      density  \\\n",
       "count  1599.000000          1599.000000           1599.000000  1599.000000   \n",
       "mean      0.087467            15.874922             46.467792     0.996747   \n",
       "std       0.047065            10.460157             32.895324     0.001887   \n",
       "min       0.012000             1.000000              6.000000     0.990070   \n",
       "25%       0.070000             7.000000             22.000000     0.995600   \n",
       "50%       0.079000            14.000000             38.000000     0.996750   \n",
       "75%       0.090000            21.000000             62.000000     0.997835   \n",
       "max       0.611000            72.000000            289.000000     1.003690   \n",
       "\n",
       "                pH    sulphates      alcohol      quality  \n",
       "count  1599.000000  1599.000000  1599.000000  1599.000000  \n",
       "mean      3.311113     0.658149    10.422983     5.636023  \n",
       "std       0.154386     0.169507     1.065668     0.807569  \n",
       "min       2.740000     0.330000     8.400000     3.000000  \n",
       "25%       3.210000     0.550000     9.500000     5.000000  \n",
       "50%       3.310000     0.620000    10.200000     6.000000  \n",
       "75%       3.400000     0.730000    11.100000     6.000000  \n",
       "max       4.010000     2.000000    14.900000     8.000000  "
      ]
     },
     "execution_count": 6,
     "metadata": {},
     "output_type": "execute_result"
    }
   ],
   "source": [
    "\n",
    "wine.describe()"
   ]
  },
  {
   "cell_type": "code",
   "execution_count": 7,
   "id": "98edfc34",
   "metadata": {},
   "outputs": [
    {
     "data": {
      "text/plain": [
       "fixed acidity           0\n",
       "volatile acidity        0\n",
       "citric acid             0\n",
       "residual sugar          0\n",
       "chlorides               0\n",
       "free sulfur dioxide     0\n",
       "total sulfur dioxide    0\n",
       "density                 0\n",
       "pH                      0\n",
       "sulphates               0\n",
       "alcohol                 0\n",
       "quality                 0\n",
       "dtype: int64"
      ]
     },
     "execution_count": 7,
     "metadata": {},
     "output_type": "execute_result"
    }
   ],
   "source": [
    "# to find null values\n",
    "wine.isna().sum()"
   ]
  },
  {
   "cell_type": "code",
   "execution_count": 8,
   "id": "ba040a52",
   "metadata": {},
   "outputs": [],
   "source": [
    "# drop null values\n",
    "wine.dropna(inplace=True)"
   ]
  },
  {
   "cell_type": "code",
   "execution_count": 9,
   "id": "6ff149f0",
   "metadata": {},
   "outputs": [],
   "source": [
    "wine.drop_duplicates(inplace=True)"
   ]
  },
  {
   "cell_type": "code",
   "execution_count": 10,
   "id": "b81f9af8",
   "metadata": {},
   "outputs": [],
   "source": [
    "#wine.drop(columns=\"type\",inplace=True)"
   ]
  },
  {
   "cell_type": "code",
   "execution_count": 11,
   "id": "ed45e3fe",
   "metadata": {},
   "outputs": [
    {
     "data": {
      "text/plain": [
       "(1359, 12)"
      ]
     },
     "execution_count": 11,
     "metadata": {},
     "output_type": "execute_result"
    }
   ],
   "source": [
    "wine.shape"
   ]
  },
  {
   "cell_type": "code",
   "execution_count": 12,
   "id": "9a27dc49",
   "metadata": {},
   "outputs": [],
   "source": [
    "correlation=wine.corr()"
   ]
  },
  {
   "cell_type": "markdown",
   "id": "fc3f72fa",
   "metadata": {},
   "source": [
    "Pearson correlation: The Pearson correlation is the most commonly used measurement for a linear relationship between two variables. The stronger the correlation between these two datasets, the closer it'll be to +1 or -1."
   ]
  },
  {
   "cell_type": "code",
   "execution_count": 13,
   "id": "b01a67f5",
   "metadata": {},
   "outputs": [
    {
     "data": {
      "text/plain": [
       "<AxesSubplot:>"
      ]
     },
     "execution_count": 13,
     "metadata": {},
     "output_type": "execute_result"
    },
    {
     "data": {
      "image/png": "[encoded data removed]",
      "text/plain": [
       "<Figure size 864x864 with 2 Axes>"
      ]
     },
     "metadata": {},
     "output_type": "display_data"
    }
   ],
   "source": [
    "\n",
    "sns.set(rc={\"figure.figsize\":(12, 12)}) #width=3, #height=4\n",
    "sns.heatmap(correlation,annot=True)"
   ]
  },
  {
   "cell_type": "markdown",
   "id": "2cf9972b",
   "metadata": {},
   "source": [
    "# Observation :- total sulfur dioxide and free sulfur dioxide are positive correlated"
   ]
  },
  {
   "cell_type": "code",
   "execution_count": 14,
   "id": "566cdbe5",
   "metadata": {},
   "outputs": [
    {
     "data": {
      "text/plain": [
       "array([5, 6, 7, 4, 8, 3])"
      ]
     },
     "execution_count": 14,
     "metadata": {},
     "output_type": "execute_result"
    }
   ],
   "source": [
    "wine.quality.unique()"
   ]
  },
  {
   "cell_type": "code",
   "execution_count": 15,
   "id": "56db1ad0",
   "metadata": {},
   "outputs": [
    {
     "data": {
      "text/plain": [
       "5    577\n",
       "6    535\n",
       "7    167\n",
       "4     53\n",
       "8     17\n",
       "3     10\n",
       "Name: quality, dtype: int64"
      ]
     },
     "execution_count": 15,
     "metadata": {},
     "output_type": "execute_result"
    }
   ],
   "source": [
    "wine.quality.value_counts() # Quality :- 0,1,2 and 10 not present"
   ]
  },
  {
   "cell_type": "code",
   "execution_count": 16,
   "id": "d31ddf61",
   "metadata": {
    "scrolled": true
   },
   "outputs": [
    {
     "data": {
      "text/plain": [
       "<BarContainer object of 6 artists>"
      ]
     },
     "execution_count": 16,
     "metadata": {},
     "output_type": "execute_result"
    },
    {
     "data": {
      "image/png": "[encoded data removed]",
      "text/plain": [
       "<Figure size 864x864 with 1 Axes>"
      ]
     },
     "metadata": {},
     "output_type": "display_data"
    }
   ],
   "source": [
    "plt.bar(wine.quality.unique(),wine.quality.value_counts())"
   ]
  },
  {
   "cell_type": "markdown",
   "id": "03adaa2e",
   "metadata": {},
   "source": [
    "# Replacement of quality score with low,medium, high"
   ]
  },
  {
   "cell_type": "markdown",
   "id": "96b72dff",
   "metadata": {},
   "source": [
    "group_Qulaity={3:\"low\" , 4: \"low\" , 5: \"low\" , 6: \"medium\" ,7: \"high\" , 8: \"high\" , 9: \"high\" }\n",
    "wine[\"quality\"]=wine[\"quality\"].replace(group_Qulaity)"
   ]
  },
  {
   "cell_type": "code",
   "execution_count": 17,
   "id": "0361cc78",
   "metadata": {},
   "outputs": [],
   "source": [
    "bins = (2,6.5,9)\n",
    "group_names = ['low','high']\n",
    "wine['quality'] = pd.cut(wine['quality'], bins = bins, labels = group_names)"
   ]
  },
  {
   "cell_type": "code",
   "execution_count": 18,
   "id": "f3a78b84",
   "metadata": {},
   "outputs": [
    {
     "data": {
      "text/plain": [
       "<BarContainer object of 2 artists>"
      ]
     },
     "execution_count": 18,
     "metadata": {},
     "output_type": "execute_result"
    },
    {
     "data": {
      "image/png": "[encoded data removed]",
      "text/plain": [
       "<Figure size 864x864 with 1 Axes>"
      ]
     },
     "metadata": {},
     "output_type": "display_data"
    }
   ],
   "source": [
    "plt.bar(wine.quality.unique(),wine.quality.value_counts())"
   ]
  },
  {
   "cell_type": "code",
   "execution_count": 19,
   "id": "d7f62128",
   "metadata": {},
   "outputs": [
    {
     "data": {
      "text/plain": [
       "low     1175\n",
       "high     184\n",
       "Name: quality, dtype: int64"
      ]
     },
     "execution_count": 19,
     "metadata": {},
     "output_type": "execute_result"
    }
   ],
   "source": [
    "wine.quality.value_counts()"
   ]
  },
  {
   "cell_type": "code",
   "execution_count": 20,
   "id": "04d70cc7",
   "metadata": {},
   "outputs": [],
   "source": [
    "# For wine Quality - Label encoding\n",
    "# label encode the target variable\n",
    "wine.quality = LabelEncoder().fit_transform(wine.quality)"
   ]
  },
  {
   "cell_type": "code",
   "execution_count": 21,
   "id": "64ca9f53",
   "metadata": {},
   "outputs": [
    {
     "data": {
      "text/plain": [
       "array([1, 0])"
      ]
     },
     "execution_count": 21,
     "metadata": {},
     "output_type": "execute_result"
    }
   ],
   "source": [
    "wine.quality.unique()"
   ]
  },
  {
   "cell_type": "code",
   "execution_count": 22,
   "id": "3acd4e47",
   "metadata": {},
   "outputs": [],
   "source": [
    "# Input\n",
    "X=wine.drop(\"quality\",axis=1)\n",
    "\n",
    "# Output\n",
    "y=wine.quality\n",
    "\n"
   ]
  },
  {
   "cell_type": "code",
   "execution_count": null,
   "id": "77d93f99",
   "metadata": {},
   "outputs": [],
   "source": []
  },
  {
   "cell_type": "markdown",
   "id": "aa67c74f",
   "metadata": {},
   "source": [
    "# Encoding for Wine Type input\n",
    "w_type={\"white\":1,\"red\":0}\n",
    "X[\"type\"]=X[\"type\"].replace(to_replace=w_type)"
   ]
  },
  {
   "cell_type": "markdown",
   "id": "28063a47",
   "metadata": {},
   "source": [
    "# Dealing with Outliers\n",
    "fixed acidity\tresidual sugar, free sulfur dioxide\ttotal sulfur dioxide\t"
   ]
  },
  {
   "cell_type": "code",
   "execution_count": 23,
   "id": "90bd005f",
   "metadata": {},
   "outputs": [
    {
     "data": {
      "text/plain": [
       "Text(0.5, 0, 'Fixed acidity')"
      ]
     },
     "execution_count": 23,
     "metadata": {},
     "output_type": "execute_result"
    },
    {
     "data": {
      "image/png": "[encoded data removed]",
      "text/plain": [
       "<Figure size 864x864 with 1 Axes>"
      ]
     },
     "metadata": {},
     "output_type": "display_data"
    }
   ],
   "source": [
    "# Before handling Outliers\n",
    "plt.boxplot(X[\"fixed acidity\"], vert=False)\n",
    "plt.title(\"Detecting outliers using Boxplot\")\n",
    "plt.xlabel('Fixed acidity')"
   ]
  },
  {
   "cell_type": "code",
   "execution_count": 24,
   "id": "78dc26ae",
   "metadata": {},
   "outputs": [
    {
     "name": "stdout",
     "output_type": "stream",
     "text": [
      "IQR : 2.0999999999999996\n",
      "Q1 and Q3 :  7.1 9.2\n",
      "whisker 1 and whisker 2 : 3.95 12.349999999999998\n"
     ]
    }
   ],
   "source": [
    "X[\"fixed acidity\"].quantile(0.25),X[\"fixed acidity\"].quantile(0.75)\n",
    "IQR=X[\"fixed acidity\"].quantile(0.75)-X[\"fixed acidity\"].quantile(0.25)\n",
    "print(\"IQR :\",IQR)\n",
    "\n",
    "# whisker values\n",
    "Q1=X[\"fixed acidity\"].quantile(0.25)\n",
    "Q3=X[\"fixed acidity\"].quantile(0.75)\n",
    "print(\"Q1 and Q3 : \",Q1,Q3)\n",
    "whisker_value1=Q1-(1.5*IQR)\n",
    "whisker_value2=Q3+(1.5*IQR)\n",
    "\n",
    "print(\"whisker 1 and whisker 2 :\",whisker_value1,whisker_value2)\n",
    "\n",
    "X[\"fixed acidity\"].loc[X[\"fixed acidity\"]<3.95]=Q1\n",
    "\n",
    "X[\"fixed acidity\"].loc[X[\"fixed acidity\"]>12.3]=Q3"
   ]
  },
  {
   "cell_type": "code",
   "execution_count": 25,
   "id": "16b3318e",
   "metadata": {},
   "outputs": [
    {
     "data": {
      "text/plain": [
       "Text(0.5, 0, 'Fixed acidity')"
      ]
     },
     "execution_count": 25,
     "metadata": {},
     "output_type": "execute_result"
    },
    {
     "data": {
      "image/png": "[encoded data removed]",
      "text/plain": [
       "<Figure size 864x864 with 1 Axes>"
      ]
     },
     "metadata": {},
     "output_type": "display_data"
    }
   ],
   "source": [
    "# After handling Outliers\n",
    "plt.boxplot(X[\"fixed acidity\"], vert=False)\n",
    "plt.title(\"Detecting outliers using Boxplot\")\n",
    "plt.xlabel('Fixed acidity')"
   ]
  },
  {
   "cell_type": "code",
   "execution_count": 26,
   "id": "9da616d9",
   "metadata": {},
   "outputs": [
    {
     "data": {
      "text/plain": [
       "Text(0.5, 0, 'Residual Sugar')"
      ]
     },
     "execution_count": 26,
     "metadata": {},
     "output_type": "execute_result"
    },
    {
     "data": {
      "image/png": "[encoded data removed]",
      "text/plain": [
       "<Figure size 864x864 with 1 Axes>"
      ]
     },
     "metadata": {},
     "output_type": "display_data"
    }
   ],
   "source": [
    "# Before handling Outliers\n",
    "plt.boxplot(X[\"residual sugar\"], vert=False)\n",
    "plt.title(\"Detecting outliers using Boxplot\")\n",
    "plt.xlabel('Residual Sugar')"
   ]
  },
  {
   "cell_type": "code",
   "execution_count": 27,
   "id": "9108889a",
   "metadata": {},
   "outputs": [
    {
     "name": "stdout",
     "output_type": "stream",
     "text": [
      "IQR : 0.7000000000000002\n",
      "Q1 and Q3 :  1.9 2.6\n",
      "whisker 1 and whisker 2 : 0.8499999999999996 3.6500000000000004\n"
     ]
    }
   ],
   "source": [
    "X[\"residual sugar\"].quantile(0.25),X[\"residual sugar\"].quantile(0.75)\n",
    "IQR=X[\"residual sugar\"].quantile(0.75)-X[\"residual sugar\"].quantile(0.25)\n",
    "print(\"IQR :\",IQR)\n",
    "\n",
    "# whisker values\n",
    "Q1=X[\"residual sugar\"].quantile(0.25)\n",
    "Q3=X[\"residual sugar\"].quantile(0.75)\n",
    "print(\"Q1 and Q3 : \",Q1,Q3)\n",
    "whisker_value1=Q1-(1.5*IQR)\n",
    "whisker_value2=Q3+(1.5*IQR)\n",
    "\n",
    "print(\"whisker 1 and whisker 2 :\",whisker_value1,whisker_value2)\n",
    "\n",
    "X[\"residual sugar\"].loc[X[\"residual sugar\"]<0.84]=Q1\n",
    "\n",
    "X[\"residual sugar\"].loc[X[\"residual sugar\"]>3.65]=Q3"
   ]
  },
  {
   "cell_type": "code",
   "execution_count": 28,
   "id": "628bf817",
   "metadata": {},
   "outputs": [
    {
     "data": {
      "text/plain": [
       "Text(0.5, 0, 'Residual Sugar')"
      ]
     },
     "execution_count": 28,
     "metadata": {},
     "output_type": "execute_result"
    },
    {
     "data": {
      "image/png": "[encoded data removed]",
      "text/plain": [
       "<Figure size 864x864 with 1 Axes>"
      ]
     },
     "metadata": {},
     "output_type": "display_data"
    }
   ],
   "source": [
    "# After handling Outliers\n",
    "plt.boxplot(X[\"residual sugar\"], vert=False)\n",
    "plt.title(\"Detecting outliers using Boxplot\")\n",
    "plt.xlabel('Residual Sugar')"
   ]
  },
  {
   "cell_type": "code",
   "execution_count": 29,
   "id": "291966c3",
   "metadata": {},
   "outputs": [
    {
     "data": {
      "text/plain": [
       "Text(0.5, 0, 'Total sulfur dioxide')"
      ]
     },
     "execution_count": 29,
     "metadata": {},
     "output_type": "execute_result"
    },
    {
     "data": {
      "image/png": "[encoded data removed]",
      "text/plain": [
       "<Figure size 864x864 with 1 Axes>"
      ]
     },
     "metadata": {},
     "output_type": "display_data"
    }
   ],
   "source": [
    "# Before handling Outliers\n",
    "plt.boxplot(X[\"total sulfur dioxide\"], vert=False)\n",
    "plt.title(\"Detecting outliers using Boxplot\")\n",
    "plt.xlabel('Total sulfur dioxide')"
   ]
  },
  {
   "cell_type": "code",
   "execution_count": 30,
   "id": "5d718f99",
   "metadata": {},
   "outputs": [
    {
     "name": "stdout",
     "output_type": "stream",
     "text": [
      "IQR : 41.0\n",
      "Q1 and Q3 :  22.0 63.0\n",
      "whisker 1 and whisker 2 : -39.5 124.5\n"
     ]
    }
   ],
   "source": [
    "X[\"total sulfur dioxide\"].quantile(0.25),X[\"total sulfur dioxide\"].quantile(0.75)\n",
    "IQR=X[\"total sulfur dioxide\"].quantile(0.75)-X[\"total sulfur dioxide\"].quantile(0.25)\n",
    "print(\"IQR :\",IQR)\n",
    "\n",
    "# whisker values\n",
    "Q1=X[\"total sulfur dioxide\"].quantile(0.25)\n",
    "Q3=X[\"total sulfur dioxide\"].quantile(0.75)\n",
    "print(\"Q1 and Q3 : \",Q1,Q3)\n",
    "whisker_value1=Q1-(1.5*IQR)\n",
    "whisker_value2=Q3+(1.5*IQR)\n",
    "\n",
    "print(\"whisker 1 and whisker 2 :\",whisker_value1,whisker_value2)\n",
    "\n",
    "X[\"total sulfur dioxide\"].loc[X[\"total sulfur dioxide\"]<-39.5]=Q1\n",
    "\n",
    "X[\"total sulfur dioxide\"].loc[X[\"total sulfur dioxide\"]>124.5]=Q3"
   ]
  },
  {
   "cell_type": "code",
   "execution_count": 31,
   "id": "27ead5d6",
   "metadata": {},
   "outputs": [
    {
     "data": {
      "text/plain": [
       "Text(0.5, 0, 'Total sulfur dioxide')"
      ]
     },
     "execution_count": 31,
     "metadata": {},
     "output_type": "execute_result"
    },
    {
     "data": {
      "image/png": "[encoded data removed]",
      "text/plain": [
       "<Figure size 864x864 with 1 Axes>"
      ]
     },
     "metadata": {},
     "output_type": "display_data"
    }
   ],
   "source": [
    "# After handling Outliers\n",
    "plt.boxplot(X[\"total sulfur dioxide\"], vert=False)\n",
    "plt.title(\"Detecting outliers using Boxplot\")\n",
    "plt.xlabel('Total sulfur dioxide')"
   ]
  },
  {
   "cell_type": "code",
   "execution_count": 32,
   "id": "f44d3838",
   "metadata": {},
   "outputs": [
    {
     "data": {
      "text/plain": [
       "Text(0.5, 0, 'Free sulfur dioxide')"
      ]
     },
     "execution_count": 32,
     "metadata": {},
     "output_type": "execute_result"
    },
    {
     "data": {
      "image/png": "[encoded data removed]",
      "text/plain": [
       "<Figure size 864x864 with 1 Axes>"
      ]
     },
     "metadata": {},
     "output_type": "display_data"
    }
   ],
   "source": [
    "# Before handling Outliers\n",
    "plt.boxplot(X[\"free sulfur dioxide\"], vert=False)\n",
    "plt.title(\"Detecting outliers using Boxplot\")\n",
    "plt.xlabel('Free sulfur dioxide')"
   ]
  },
  {
   "cell_type": "code",
   "execution_count": 33,
   "id": "5a2ce7b2",
   "metadata": {},
   "outputs": [
    {
     "name": "stdout",
     "output_type": "stream",
     "text": [
      "IQR : 14.0\n",
      "Q1 and Q3 :  7.0 21.0\n",
      "whisker 1 and whisker 2 : -14.0 42.0\n"
     ]
    }
   ],
   "source": [
    "X[\"free sulfur dioxide\"].quantile(0.25),X[\"free sulfur dioxide\"].quantile(0.75)\n",
    "IQR=X[\"free sulfur dioxide\"].quantile(0.75)-X[\"free sulfur dioxide\"].quantile(0.25)\n",
    "print(\"IQR :\",IQR)\n",
    "\n",
    "# whisker values\n",
    "Q1=X[\"free sulfur dioxide\"].quantile(0.25)\n",
    "Q3=X[\"free sulfur dioxide\"].quantile(0.75)\n",
    "print(\"Q1 and Q3 : \",Q1,Q3)\n",
    "whisker_value1=Q1-(1.5*IQR)\n",
    "whisker_value2=Q3+(1.5*IQR)\n",
    "\n",
    "print(\"whisker 1 and whisker 2 :\",whisker_value1,whisker_value2)\n",
    "\n",
    "X[\"free sulfur dioxide\"].loc[X[\"free sulfur dioxide\"]<-14]=Q1\n",
    "\n",
    "X[\"free sulfur dioxide\"].loc[X[\"free sulfur dioxide\"]>42]=Q3"
   ]
  },
  {
   "cell_type": "code",
   "execution_count": 34,
   "id": "93a38224",
   "metadata": {},
   "outputs": [
    {
     "data": {
      "text/plain": [
       "Text(0.5, 0, 'Free sulfur dioxide')"
      ]
     },
     "execution_count": 34,
     "metadata": {},
     "output_type": "execute_result"
    },
    {
     "data": {
      "image/png": "[encoded data removed]",
      "text/plain": [
       "<Figure size 864x864 with 1 Axes>"
      ]
     },
     "metadata": {},
     "output_type": "display_data"
    }
   ],
   "source": [
    "# After handling Outliers\n",
    "plt.boxplot(X[\"free sulfur dioxide\"], vert=False)\n",
    "plt.title(\"Detecting outliers using Boxplot\")\n",
    "plt.xlabel('Free sulfur dioxide')"
   ]
  },
  {
   "cell_type": "code",
   "execution_count": 35,
   "id": "7b49c580",
   "metadata": {},
   "outputs": [
    {
     "data": {
      "text/plain": [
       "Text(0.5, 0, 'volatile acidity')"
      ]
     },
     "execution_count": 35,
     "metadata": {},
     "output_type": "execute_result"
    },
    {
     "data": {
      "image/png": "[encoded data removed]",
      "text/plain": [
       "<Figure size 864x864 with 1 Axes>"
      ]
     },
     "metadata": {},
     "output_type": "display_data"
    }
   ],
   "source": [
    "# Before handling Outliers\n",
    "plt.boxplot(X[\"volatile acidity\"], vert=False)\n",
    "plt.title(\"Detecting outliers using Boxplot\")\n",
    "plt.xlabel('volatile acidity')"
   ]
  },
  {
   "cell_type": "code",
   "execution_count": 36,
   "id": "3d333877",
   "metadata": {},
   "outputs": [
    {
     "name": "stdout",
     "output_type": "stream",
     "text": [
      "IQR : 0.25\n",
      "Q1 and Q3 :  0.39 0.64\n",
      "whisker 1 and whisker 2 : 0.015000000000000013 1.0150000000000001\n"
     ]
    }
   ],
   "source": [
    "X[\"volatile acidity\"].quantile(0.25),X[\"volatile acidity\"].quantile(0.75)\n",
    "IQR=X[\"volatile acidity\"].quantile(0.75)-X[\"volatile acidity\"].quantile(0.25)\n",
    "print(\"IQR :\",IQR)\n",
    "\n",
    "# whisker values\n",
    "Q1=X[\"volatile acidity\"].quantile(0.25)\n",
    "Q3=X[\"volatile acidity\"].quantile(0.75)\n",
    "print(\"Q1 and Q3 : \",Q1,Q3)\n",
    "whisker_value1=Q1-(1.5*IQR)\n",
    "whisker_value2=Q3+(1.5*IQR)\n",
    "\n",
    "print(\"whisker 1 and whisker 2 :\",whisker_value1,whisker_value2)"
   ]
  },
  {
   "cell_type": "code",
   "execution_count": 37,
   "id": "e00edfec",
   "metadata": {},
   "outputs": [],
   "source": [
    "X[\"volatile acidity\"].loc[X[\"volatile acidity\"]<0.015]=Q1\n",
    "\n",
    "X[\"volatile acidity\"].loc[X[\"volatile acidity\"]>1.015]=Q3"
   ]
  },
  {
   "cell_type": "code",
   "execution_count": 38,
   "id": "1e3a0aea",
   "metadata": {},
   "outputs": [
    {
     "data": {
      "text/plain": [
       "Text(0.5, 0, 'volatile acidity')"
      ]
     },
     "execution_count": 38,
     "metadata": {},
     "output_type": "execute_result"
    },
    {
     "data": {
      "image/png": "[encoded data removed]",
      "text/plain": [
       "<Figure size 864x864 with 1 Axes>"
      ]
     },
     "metadata": {},
     "output_type": "display_data"
    }
   ],
   "source": [
    "# After handling Outliers\n",
    "plt.boxplot(X[\"volatile acidity\"], vert=False)\n",
    "plt.title(\"Detecting outliers using Boxplot\")\n",
    "plt.xlabel('volatile acidity')"
   ]
  },
  {
   "cell_type": "code",
   "execution_count": 39,
   "id": "c0fc0f87",
   "metadata": {},
   "outputs": [
    {
     "data": {
      "text/plain": [
       "Text(0.5, 0, 'chlorides')"
      ]
     },
     "execution_count": 39,
     "metadata": {},
     "output_type": "execute_result"
    },
    {
     "data": {
      "image/png": "[encoded data removed]",
      "text/plain": [
       "<Figure size 864x864 with 1 Axes>"
      ]
     },
     "metadata": {},
     "output_type": "display_data"
    }
   ],
   "source": [
    "# Before handling Outliers\n",
    "plt.boxplot(X[\"chlorides\"], vert=False)\n",
    "plt.title(\"Detecting outliers using Boxplot\")\n",
    "plt.xlabel('chlorides')"
   ]
  },
  {
   "cell_type": "code",
   "execution_count": 40,
   "id": "79f10f26",
   "metadata": {},
   "outputs": [
    {
     "name": "stdout",
     "output_type": "stream",
     "text": [
      "IQR : 0.02099999999999999\n",
      "Q1 and Q3 :  0.07 0.091\n",
      "whisker 1 and whisker 2 : 0.03850000000000002 0.12249999999999998\n"
     ]
    }
   ],
   "source": [
    "X[\"chlorides\"].quantile(0.25),X[\"chlorides\"].quantile(0.75)\n",
    "IQR=X[\"chlorides\"].quantile(0.75)-X[\"chlorides\"].quantile(0.25)\n",
    "print(\"IQR :\",IQR)\n",
    "\n",
    "# whisker values\n",
    "Q1=X[\"chlorides\"].quantile(0.25)\n",
    "Q3=X[\"chlorides\"].quantile(0.75)\n",
    "print(\"Q1 and Q3 : \",Q1,Q3)\n",
    "whisker_value1=Q1-(1.5*IQR)\n",
    "whisker_value2=Q3+(1.5*IQR)\n",
    "\n",
    "print(\"whisker 1 and whisker 2 :\",whisker_value1,whisker_value2)"
   ]
  },
  {
   "cell_type": "code",
   "execution_count": 41,
   "id": "63f5a314",
   "metadata": {},
   "outputs": [],
   "source": [
    "X[\"chlorides\"].loc[X[\"chlorides\"]<0.038]=Q1\n",
    "\n",
    "X[\"chlorides\"].loc[X[\"chlorides\"]>0.122]=Q3"
   ]
  },
  {
   "cell_type": "code",
   "execution_count": 42,
   "id": "0322c026",
   "metadata": {},
   "outputs": [
    {
     "data": {
      "text/plain": [
       "Text(0.5, 0, 'chlorides')"
      ]
     },
     "execution_count": 42,
     "metadata": {},
     "output_type": "execute_result"
    },
    {
     "data": {
      "image/png": "[encoded data removed]",
      "text/plain": [
       "<Figure size 864x864 with 1 Axes>"
      ]
     },
     "metadata": {},
     "output_type": "display_data"
    }
   ],
   "source": [
    "# After handling Outliers\n",
    "plt.boxplot(X[\"chlorides\"], vert=False)\n",
    "plt.title(\"Detecting outliers using Boxplot\")\n",
    "plt.xlabel('chlorides')"
   ]
  },
  {
   "cell_type": "code",
   "execution_count": null,
   "id": "1c6b9212",
   "metadata": {},
   "outputs": [],
   "source": []
  },
  {
   "cell_type": "code",
   "execution_count": 43,
   "id": "30dfe3bd",
   "metadata": {},
   "outputs": [
    {
     "data": {
      "text/plain": [
       "((1359, 11), (1359,))"
      ]
     },
     "execution_count": 43,
     "metadata": {},
     "output_type": "execute_result"
    }
   ],
   "source": [
    "\n",
    "X.shape,y.shape"
   ]
  },
  {
   "cell_type": "code",
   "execution_count": 44,
   "id": "f10e7093",
   "metadata": {},
   "outputs": [
    {
     "data": {
      "text/html": [
       "<div>\n",
       "<style scoped>\n",
       "    .dataframe tbody tr th:only-of-type {\n",
       "        vertical-align: middle;\n",
       "    }\n",
       "\n",
       "    .dataframe tbody tr th {\n",
       "        vertical-align: top;\n",
       "    }\n",
       "\n",
       "    .dataframe thead th {\n",
       "        text-align: right;\n",
       "    }\n",
       "</style>\n",
       "<table border=\"1\" class=\"dataframe\">\n",
       "  <thead>\n",
       "    <tr style=\"text-align: right;\">\n",
       "      <th></th>\n",
       "      <th>fixed acidity</th>\n",
       "      <th>volatile acidity</th>\n",
       "      <th>citric acid</th>\n",
       "      <th>residual sugar</th>\n",
       "      <th>chlorides</th>\n",
       "      <th>free sulfur dioxide</th>\n",
       "      <th>total sulfur dioxide</th>\n",
       "      <th>density</th>\n",
       "      <th>pH</th>\n",
       "      <th>sulphates</th>\n",
       "      <th>alcohol</th>\n",
       "    </tr>\n",
       "  </thead>\n",
       "  <tbody>\n",
       "    <tr>\n",
       "      <th>0</th>\n",
       "      <td>7.4</td>\n",
       "      <td>0.70</td>\n",
       "      <td>0.00</td>\n",
       "      <td>1.9</td>\n",
       "      <td>0.076</td>\n",
       "      <td>11.0</td>\n",
       "      <td>34.0</td>\n",
       "      <td>0.9978</td>\n",
       "      <td>3.51</td>\n",
       "      <td>0.56</td>\n",
       "      <td>9.4</td>\n",
       "    </tr>\n",
       "    <tr>\n",
       "      <th>1</th>\n",
       "      <td>7.8</td>\n",
       "      <td>0.88</td>\n",
       "      <td>0.00</td>\n",
       "      <td>2.6</td>\n",
       "      <td>0.098</td>\n",
       "      <td>25.0</td>\n",
       "      <td>67.0</td>\n",
       "      <td>0.9968</td>\n",
       "      <td>3.20</td>\n",
       "      <td>0.68</td>\n",
       "      <td>9.8</td>\n",
       "    </tr>\n",
       "    <tr>\n",
       "      <th>2</th>\n",
       "      <td>7.8</td>\n",
       "      <td>0.76</td>\n",
       "      <td>0.04</td>\n",
       "      <td>2.3</td>\n",
       "      <td>0.092</td>\n",
       "      <td>15.0</td>\n",
       "      <td>54.0</td>\n",
       "      <td>0.9970</td>\n",
       "      <td>3.26</td>\n",
       "      <td>0.65</td>\n",
       "      <td>9.8</td>\n",
       "    </tr>\n",
       "    <tr>\n",
       "      <th>3</th>\n",
       "      <td>11.2</td>\n",
       "      <td>0.28</td>\n",
       "      <td>0.56</td>\n",
       "      <td>1.9</td>\n",
       "      <td>0.075</td>\n",
       "      <td>17.0</td>\n",
       "      <td>60.0</td>\n",
       "      <td>0.9980</td>\n",
       "      <td>3.16</td>\n",
       "      <td>0.58</td>\n",
       "      <td>9.8</td>\n",
       "    </tr>\n",
       "    <tr>\n",
       "      <th>5</th>\n",
       "      <td>7.4</td>\n",
       "      <td>0.66</td>\n",
       "      <td>0.00</td>\n",
       "      <td>1.8</td>\n",
       "      <td>0.075</td>\n",
       "      <td>13.0</td>\n",
       "      <td>40.0</td>\n",
       "      <td>0.9978</td>\n",
       "      <td>3.51</td>\n",
       "      <td>0.56</td>\n",
       "      <td>9.4</td>\n",
       "    </tr>\n",
       "  </tbody>\n",
       "</table>\n",
       "</div>"
      ],
      "text/plain": [
       "   fixed acidity  volatile acidity  citric acid  residual sugar  chlorides  \\\n",
       "0            7.4              0.70         0.00             1.9      0.076   \n",
       "1            7.8              0.88         0.00             2.6      0.098   \n",
       "2            7.8              0.76         0.04             2.3      0.092   \n",
       "3           11.2              0.28         0.56             1.9      0.075   \n",
       "5            7.4              0.66         0.00             1.8      0.075   \n",
       "\n",
       "   free sulfur dioxide  total sulfur dioxide  density    pH  sulphates  \\\n",
       "0                 11.0                  34.0   0.9978  3.51       0.56   \n",
       "1                 25.0                  67.0   0.9968  3.20       0.68   \n",
       "2                 15.0                  54.0   0.9970  3.26       0.65   \n",
       "3                 17.0                  60.0   0.9980  3.16       0.58   \n",
       "5                 13.0                  40.0   0.9978  3.51       0.56   \n",
       "\n",
       "   alcohol  \n",
       "0      9.4  \n",
       "1      9.8  \n",
       "2      9.8  \n",
       "3      9.8  \n",
       "5      9.4  "
      ]
     },
     "execution_count": 44,
     "metadata": {},
     "output_type": "execute_result"
    }
   ],
   "source": [
    "X.head()"
   ]
  },
  {
   "cell_type": "markdown",
   "id": "bf832839",
   "metadata": {},
   "source": [
    "# Balanced target variable y\n",
    "(unique,count)=np.unique(y,return_counts=True)\n",
    "frequencies=np.asarray((unique,count)).T\n",
    "print(frequencies)"
   ]
  },
  {
   "cell_type": "markdown",
   "id": "e0175063",
   "metadata": {},
   "source": [
    "# Split data in Training and test data"
   ]
  },
  {
   "cell_type": "code",
   "execution_count": 45,
   "id": "ca3dbb1e",
   "metadata": {},
   "outputs": [],
   "source": [
    "\n",
    "from sklearn.model_selection import train_test_split\n",
    "X_train, X_test, y_train, y_test = train_test_split(X, y, test_size = 0.2, random_state = 42)\n"
   ]
  },
  {
   "cell_type": "code",
   "execution_count": 46,
   "id": "d9548ef4",
   "metadata": {},
   "outputs": [
    {
     "data": {
      "text/plain": [
       "((1087, 11), (1087,))"
      ]
     },
     "execution_count": 46,
     "metadata": {},
     "output_type": "execute_result"
    }
   ],
   "source": [
    "X_train.shape,y_train.shape"
   ]
  },
  {
   "cell_type": "code",
   "execution_count": 47,
   "id": "04607a89",
   "metadata": {},
   "outputs": [
    {
     "data": {
      "text/html": [
       "<div>\n",
       "<style scoped>\n",
       "    .dataframe tbody tr th:only-of-type {\n",
       "        vertical-align: middle;\n",
       "    }\n",
       "\n",
       "    .dataframe tbody tr th {\n",
       "        vertical-align: top;\n",
       "    }\n",
       "\n",
       "    .dataframe thead th {\n",
       "        text-align: right;\n",
       "    }\n",
       "</style>\n",
       "<table border=\"1\" class=\"dataframe\">\n",
       "  <thead>\n",
       "    <tr style=\"text-align: right;\">\n",
       "      <th></th>\n",
       "      <th>fixed acidity</th>\n",
       "      <th>volatile acidity</th>\n",
       "      <th>citric acid</th>\n",
       "      <th>residual sugar</th>\n",
       "      <th>chlorides</th>\n",
       "      <th>free sulfur dioxide</th>\n",
       "      <th>total sulfur dioxide</th>\n",
       "      <th>density</th>\n",
       "      <th>pH</th>\n",
       "      <th>sulphates</th>\n",
       "      <th>alcohol</th>\n",
       "    </tr>\n",
       "  </thead>\n",
       "  <tbody>\n",
       "    <tr>\n",
       "      <th>1016</th>\n",
       "      <td>8.9</td>\n",
       "      <td>0.38</td>\n",
       "      <td>0.40</td>\n",
       "      <td>2.2</td>\n",
       "      <td>0.068</td>\n",
       "      <td>12.0</td>\n",
       "      <td>28.0</td>\n",
       "      <td>0.99486</td>\n",
       "      <td>3.27</td>\n",
       "      <td>0.75</td>\n",
       "      <td>12.6</td>\n",
       "    </tr>\n",
       "    <tr>\n",
       "      <th>1519</th>\n",
       "      <td>6.6</td>\n",
       "      <td>0.70</td>\n",
       "      <td>0.08</td>\n",
       "      <td>2.6</td>\n",
       "      <td>0.106</td>\n",
       "      <td>14.0</td>\n",
       "      <td>27.0</td>\n",
       "      <td>0.99665</td>\n",
       "      <td>3.44</td>\n",
       "      <td>0.58</td>\n",
       "      <td>10.2</td>\n",
       "    </tr>\n",
       "    <tr>\n",
       "      <th>452</th>\n",
       "      <td>6.8</td>\n",
       "      <td>0.56</td>\n",
       "      <td>0.03</td>\n",
       "      <td>1.7</td>\n",
       "      <td>0.084</td>\n",
       "      <td>18.0</td>\n",
       "      <td>35.0</td>\n",
       "      <td>0.99680</td>\n",
       "      <td>3.44</td>\n",
       "      <td>0.63</td>\n",
       "      <td>10.0</td>\n",
       "    </tr>\n",
       "    <tr>\n",
       "      <th>847</th>\n",
       "      <td>7.4</td>\n",
       "      <td>0.68</td>\n",
       "      <td>0.16</td>\n",
       "      <td>1.8</td>\n",
       "      <td>0.078</td>\n",
       "      <td>12.0</td>\n",
       "      <td>39.0</td>\n",
       "      <td>0.99770</td>\n",
       "      <td>3.50</td>\n",
       "      <td>0.70</td>\n",
       "      <td>9.9</td>\n",
       "    </tr>\n",
       "    <tr>\n",
       "      <th>58</th>\n",
       "      <td>7.8</td>\n",
       "      <td>0.59</td>\n",
       "      <td>0.18</td>\n",
       "      <td>2.3</td>\n",
       "      <td>0.076</td>\n",
       "      <td>17.0</td>\n",
       "      <td>54.0</td>\n",
       "      <td>0.99750</td>\n",
       "      <td>3.43</td>\n",
       "      <td>0.59</td>\n",
       "      <td>10.0</td>\n",
       "    </tr>\n",
       "  </tbody>\n",
       "</table>\n",
       "</div>"
      ],
      "text/plain": [
       "      fixed acidity  volatile acidity  citric acid  residual sugar  chlorides  \\\n",
       "1016            8.9              0.38         0.40             2.2      0.068   \n",
       "1519            6.6              0.70         0.08             2.6      0.106   \n",
       "452             6.8              0.56         0.03             1.7      0.084   \n",
       "847             7.4              0.68         0.16             1.8      0.078   \n",
       "58              7.8              0.59         0.18             2.3      0.076   \n",
       "\n",
       "      free sulfur dioxide  total sulfur dioxide  density    pH  sulphates  \\\n",
       "1016                 12.0                  28.0  0.99486  3.27       0.75   \n",
       "1519                 14.0                  27.0  0.99665  3.44       0.58   \n",
       "452                  18.0                  35.0  0.99680  3.44       0.63   \n",
       "847                  12.0                  39.0  0.99770  3.50       0.70   \n",
       "58                   17.0                  54.0  0.99750  3.43       0.59   \n",
       "\n",
       "      alcohol  \n",
       "1016     12.6  \n",
       "1519     10.2  \n",
       "452      10.0  \n",
       "847       9.9  \n",
       "58       10.0  "
      ]
     },
     "execution_count": 47,
     "metadata": {},
     "output_type": "execute_result"
    }
   ],
   "source": [
    "X_train.head()"
   ]
  },
  {
   "cell_type": "markdown",
   "id": "3d52bc6a",
   "metadata": {},
   "source": [
    "# SMOTE - Class Imbalance"
   ]
  },
  {
   "cell_type": "markdown",
   "id": "ee23a508",
   "metadata": {},
   "source": [
    "from collections import Counter\n",
    "# check version number\n",
    "import imblearn\n",
    "from imblearn.over_sampling import SMOTE\n",
    "print(\"The number of classes before fit {}\".format(Counter(y_train)))\n",
    "oversample = SMOTE()\n",
    "X_train, y_train = oversample.fit_resample(X_train, y_train)\n",
    "print(\"The number of classes after fit {}\".format(Counter(y_train)))"
   ]
  },
  {
   "cell_type": "markdown",
   "id": "acb9a4fd",
   "metadata": {},
   "source": [
    "# lets plot SMOTE\n",
    "pd.value_counts(y_train).plot.bar()\n",
    "plt.title(\"SMOTE- Class Balance\")\n",
    "plt.xlabel(\"Class\")\n",
    "plt.ylabel(\"Frequency\")\n",
    "pd.value_counts(y_train)\n",
    "#oversample.plt.bar(X_train, Counter(y_train))"
   ]
  },
  {
   "cell_type": "markdown",
   "id": "e1858af8",
   "metadata": {},
   "source": [
    "# Feature Selection"
   ]
  },
  {
   "cell_type": "code",
   "execution_count": 48,
   "id": "a8b5c318",
   "metadata": {},
   "outputs": [],
   "source": [
    "# ANOVA feature selection for numeric input and categorical output\n",
    "from sklearn.datasets import make_classification\n",
    "from sklearn.feature_selection import SelectKBest\n",
    "from sklearn.feature_selection import f_classif\n",
    "from sklearn.feature_selection import mutual_info_classif\n",
    "# generate dataset\n",
    "#X, y = make_classification(n_samples=100, n_features=20, n_informative=2)\n",
    "# define feature selection\n",
    "fs = SelectKBest(score_func=mutual_info_classif, k=11) # f_classif"
   ]
  },
  {
   "cell_type": "code",
   "execution_count": 49,
   "id": "62576b46",
   "metadata": {},
   "outputs": [
    {
     "name": "stdout",
     "output_type": "stream",
     "text": [
      "SelectKBest(k=11, score_func=<function mutual_info_classif at 0x7f9da39c2b80>)\n",
      "(1087, 11)\n"
     ]
    }
   ],
   "source": [
    "# apply feature selection\n",
    "print(fs)\n",
    "X_train = fs.fit_transform(X_train, y_train)\n",
    "print(X_train.shape)"
   ]
  },
  {
   "cell_type": "code",
   "execution_count": null,
   "id": "97c3063a",
   "metadata": {},
   "outputs": [],
   "source": []
  },
  {
   "cell_type": "code",
   "execution_count": 50,
   "id": "1a198d1a",
   "metadata": {},
   "outputs": [
    {
     "data": {
      "text/plain": [
       "array([[ 8.9 ,  0.38,  0.4 , ...,  3.27,  0.75, 12.6 ],\n",
       "       [ 6.6 ,  0.7 ,  0.08, ...,  3.44,  0.58, 10.2 ],\n",
       "       [ 6.8 ,  0.56,  0.03, ...,  3.44,  0.63, 10.  ],\n",
       "       ...,\n",
       "       [ 6.8 ,  0.47,  0.08, ...,  3.3 ,  0.65,  9.6 ],\n",
       "       [ 8.9 ,  0.32,  0.31, ...,  3.17,  0.55, 10.4 ],\n",
       "       [ 9.1 ,  0.34,  0.42, ...,  3.18,  0.55, 11.4 ]])"
      ]
     },
     "execution_count": 50,
     "metadata": {},
     "output_type": "execute_result"
    }
   ],
   "source": [
    "# ANOVA correlation coefficient (linear) -Selected top 5 important features\n",
    "X_train\n",
    "# type\tvolatile acidity\tchlorides\tdensity\talcohol"
   ]
  },
  {
   "cell_type": "markdown",
   "id": "046b44e6",
   "metadata": {},
   "source": [
    "# Feature Scaling"
   ]
  },
  {
   "cell_type": "code",
   "execution_count": 51,
   "id": "c5bcb981",
   "metadata": {},
   "outputs": [],
   "source": [
    "from sklearn.preprocessing import StandardScaler\n",
    "from sklearn.preprocessing import MinMaxScaler"
   ]
  },
  {
   "cell_type": "code",
   "execution_count": 52,
   "id": "c028c6f2",
   "metadata": {},
   "outputs": [
    {
     "data": {
      "text/plain": [
       "array([[ 0.49373571, -0.85732581,  0.64877105, ..., -0.25982192,\n",
       "         0.51985077,  1.98424001],\n",
       "       [-1.05719864,  1.07166419, -0.98983279, ...,  0.85726724,\n",
       "        -0.45848943, -0.2158671 ],\n",
       "       [-0.92233478,  0.22773107, -1.24586464, ...,  0.85726724,\n",
       "        -0.17074231, -0.39920936],\n",
       "       ...,\n",
       "       [-0.92233478, -0.31479737, -0.98983279, ..., -0.06268854,\n",
       "        -0.05564346, -0.76589387],\n",
       "       [ 0.49373571, -1.21901143,  0.18791372, ..., -0.91693319,\n",
       "        -0.6311377 , -0.03252484],\n",
       "       [ 0.62859957, -1.09844956,  0.75118379, ..., -0.85122206,\n",
       "        -0.6311377 ,  0.88418646]])"
      ]
     },
     "execution_count": 52,
     "metadata": {},
     "output_type": "execute_result"
    }
   ],
   "source": [
    "scaler=StandardScaler()\n",
    "#scaler=MinMaxScaler()\n",
    "X_train=scaler.fit_transform(X_train)\n",
    "X_train"
   ]
  },
  {
   "cell_type": "markdown",
   "id": "85e843a6",
   "metadata": {},
   "source": [
    "# Model Creation using Naive Bayes"
   ]
  },
  {
   "cell_type": "code",
   "execution_count": 53,
   "id": "8d022bd9",
   "metadata": {},
   "outputs": [],
   "source": [
    "from sklearn.naive_bayes import GaussianNB\n",
    "#from sklearn.naive_bayes importMultinomialNB\n",
    "from sklearn.metrics import accuracy_score, confusion_matrix, roc_curve, roc_auc_score, recall_score, precision_score\n",
    "from sklearn.metrics import f1_score, classification_report"
   ]
  },
  {
   "cell_type": "code",
   "execution_count": 54,
   "id": "7573857e",
   "metadata": {},
   "outputs": [
    {
     "data": {
      "text/plain": [
       "GaussianNB()"
      ]
     },
     "execution_count": 54,
     "metadata": {},
     "output_type": "execute_result"
    }
   ],
   "source": [
    "gnb = GaussianNB()\n",
    "#gnb =MultinomialNB()\n",
    "gnb.fit(X_train, y_train)"
   ]
  },
  {
   "cell_type": "code",
   "execution_count": 55,
   "id": "75bf70b3",
   "metadata": {},
   "outputs": [
    {
     "name": "stdout",
     "output_type": "stream",
     "text": [
      "Training Accuracy : 0.8445262189512419\n"
     ]
    }
   ],
   "source": [
    "print(\"Training Accuracy :\",gnb.score(X_train, y_train))"
   ]
  },
  {
   "cell_type": "code",
   "execution_count": 56,
   "id": "bf57244f",
   "metadata": {},
   "outputs": [
    {
     "name": "stdout",
     "output_type": "stream",
     "text": [
      "(272, 11)\n"
     ]
    }
   ],
   "source": [
    "# Feature Selection \n",
    "X_test = fs.transform(X_test)\n",
    "print(X_test.shape)"
   ]
  },
  {
   "cell_type": "code",
   "execution_count": 57,
   "id": "348d0942",
   "metadata": {},
   "outputs": [
    {
     "data": {
      "text/plain": [
       "array([[-0.31544743,  0.58941669, -1.19465827, ...,  0.20015597,\n",
       "        -0.74623655, -0.857565  ],\n",
       "       [ 0.02171221,  0.6798381 , -0.88742005, ..., -0.12839966,\n",
       "         0.51985077,  0.42583081],\n",
       "       [ 0.15657607, -0.91760675,  0.80239016, ..., -0.91693319,\n",
       "         0.86514732,  0.7008442 ],\n",
       "       ...,\n",
       "       [ 0.49373571, -0.73676393,  0.23912009, ...,  0.46300048,\n",
       "         0.63494962,  0.05914629],\n",
       "       [-1.86638178, -0.61620206, -0.01691176, ...,  3.09144557,\n",
       "        -0.11319289,  1.70922662],\n",
       "       [ 0.02171221,  0.40857388, -1.39948375, ...,  1.25153401,\n",
       "        -0.05564346, -1.04090726]])"
      ]
     },
     "execution_count": 57,
     "metadata": {},
     "output_type": "execute_result"
    }
   ],
   "source": [
    "# Feature Scaling on X_test\n",
    "X_test=scaler.transform(X_test)\n",
    "X_test"
   ]
  },
  {
   "cell_type": "code",
   "execution_count": 58,
   "id": "744c10ad",
   "metadata": {},
   "outputs": [
    {
     "name": "stdout",
     "output_type": "stream",
     "text": [
      "GaussianNB\n",
      "Accuracy: 0.86\n"
     ]
    }
   ],
   "source": [
    "y_pred_gnb = gnb.predict(X_test)\n",
    "#y_prob_pred_gnb = gnb.predict_proba(X_test)\n",
    "# how did our model perform?\n",
    "#count_misclassified = (y_test != y_pred_gnb).sum()\n",
    "\n",
    "print(\"GaussianNB\")\n",
    "#print(\"=\" * 30)\n",
    "#print('Misclassified samples: {}'.format(count_misclassified))\n",
    "accuracy = accuracy_score(y_test, y_pred_gnb)\n",
    "print('Accuracy: {:.2f}'.format(accuracy))"
   ]
  },
  {
   "cell_type": "code",
   "execution_count": 59,
   "id": "5a5410e8",
   "metadata": {},
   "outputs": [
    {
     "name": "stdout",
     "output_type": "stream",
     "text": [
      "Recall score :  0.8639705882352942\n",
      "Precision score :  0.8639705882352942\n",
      "F1 score :  0.8639705882352942\n"
     ]
    }
   ],
   "source": [
    "#Recall, Precision, and F1 score for GaussianNB\n",
    "\n",
    "print(\"Recall score : \", recall_score(y_test, y_pred_gnb , average='micro'))\n",
    "print(\"Precision score : \",precision_score(y_test, y_pred_gnb , average='micro'))\n",
    "print(\"F1 score : \",f1_score(y_test, y_pred_gnb , average='micro'))"
   ]
  },
  {
   "cell_type": "code",
   "execution_count": 60,
   "id": "e2456860",
   "metadata": {},
   "outputs": [
    {
     "name": "stdout",
     "output_type": "stream",
     "text": [
      "Random Forest Classifier Training Accuracy: 0.9935602575896965\n",
      "Random Forest Classifier Testing Accuracy: 0.9044117647058824\n",
      "0.9044117647058824\n"
     ]
    }
   ],
   "source": [
    "#Using RandomForestClassifier method of ensemble class to use Random Forest Classification algorithm\n",
    "from sklearn.ensemble import RandomForestClassifier\n",
    "forest = RandomForestClassifier(n_estimators = 10, criterion = 'entropy', random_state = 0)\n",
    "forest.fit(X_train, y_train)\n",
    "print('Random Forest Classifier Training Accuracy:', forest.score(X_train, y_train))\n",
    "y_pred_rand=forest.predict(X_test)\n",
    "print('Random Forest Classifier Testing Accuracy:', forest.score(X_test, y_test))\n",
    "accuracy = accuracy_score(y_test, y_pred_rand)\n",
    "print(accuracy)"
   ]
  },
  {
   "cell_type": "code",
   "execution_count": 61,
   "id": "e4887fb6",
   "metadata": {},
   "outputs": [
    {
     "name": "stdout",
     "output_type": "stream",
     "text": [
      "              precision    recall  f1-score   support\n",
      "\n",
      "           0       0.47      0.65      0.54        34\n",
      "           1       0.95      0.89      0.92       238\n",
      "\n",
      "    accuracy                           0.86       272\n",
      "   macro avg       0.71      0.77      0.73       272\n",
      "weighted avg       0.89      0.86      0.87       272\n",
      "\n"
     ]
    }
   ],
   "source": [
    "#classification_report for GaussianNB\n",
    "\n",
    "print(classification_report(y_test, y_pred_gnb))"
   ]
  },
  {
   "cell_type": "code",
   "execution_count": 62,
   "id": "643d3fb3",
   "metadata": {},
   "outputs": [
    {
     "data": {
      "image/png": "[encoded data removed]",
      "text/plain": [
       "<Figure size 864x864 with 2 Axes>"
      ]
     },
     "metadata": {},
     "output_type": "display_data"
    }
   ],
   "source": [
    "# Confusion Matrix\n",
    "from sklearn.metrics import confusion_matrix\n",
    "cm = confusion_matrix(y_test, y_pred_gnb)\n",
    "\n",
    "ax = sns.heatmap(cm, annot=True, cmap='Blues')\n",
    "\n",
    "ax.set_title('Confusion Matrix with labels using Naive Bayes\\n\\n');\n",
    "ax.set_xlabel('\\nPredicted Values')\n",
    "ax.set_ylabel('Actual Values ');\n",
    "\n",
    "## Ticket labels - List must be in alphabetical order\n",
    "ax.xaxis.set_ticklabels(['Low','High'])\n",
    "ax.yaxis.set_ticklabels(['Low','High'])\n",
    "\n",
    "## Display the visualization of the Confusion Matrix.\n",
    "plt.show()"
   ]
  },
  {
   "cell_type": "code",
   "execution_count": 63,
   "id": "336c5633",
   "metadata": {},
   "outputs": [
    {
     "data": {
      "image/png": "[encoded data removed]",
      "text/plain": [
       "<Figure size 864x864 with 2 Axes>"
      ]
     },
     "metadata": {},
     "output_type": "display_data"
    }
   ],
   "source": [
    "# Confusion Matrix\n",
    "from sklearn.metrics import confusion_matrix\n",
    "cm = confusion_matrix(y_test, y_pred_rand)\n",
    "\n",
    "ax = sns.heatmap(cm, annot=True, cmap='Blues')\n",
    "\n",
    "ax.set_title('Confusion Matrix with labels using Random Forest\\n\\n');\n",
    "ax.set_xlabel('\\nPredicted Values')\n",
    "ax.set_ylabel('Actual Values ');\n",
    "\n",
    "## Ticket labels - List must be in alphabetical order\n",
    "ax.xaxis.set_ticklabels(['Low','High'])\n",
    "ax.yaxis.set_ticklabels(['Low','High'])\n",
    "\n",
    "## Display the visualization of the Confusion Matrix.\n",
    "plt.show()"
   ]
  },
  {
   "cell_type": "code",
   "execution_count": 64,
   "id": "57873bc9",
   "metadata": {},
   "outputs": [
    {
     "name": "stdout",
     "output_type": "stream",
     "text": [
      "              precision    recall  f1-score   support\n",
      "\n",
      "           0       0.70      0.41      0.52        34\n",
      "           1       0.92      0.97      0.95       238\n",
      "\n",
      "    accuracy                           0.90       272\n",
      "   macro avg       0.81      0.69      0.73       272\n",
      "weighted avg       0.89      0.90      0.89       272\n",
      "\n"
     ]
    }
   ],
   "source": [
    "#classification_report for Random Forest\n",
    "\n",
    "print(classification_report(y_test, y_pred_rand))"
   ]
  },
  {
   "cell_type": "code",
   "execution_count": 65,
   "id": "c1a5c635",
   "metadata": {},
   "outputs": [
    {
     "name": "stdout",
     "output_type": "stream",
     "text": [
      "Counter({1: 238, 0: 34})\n",
      "Counter({1: 225, 0: 47})\n",
      "Counter({1: 252, 0: 20})\n"
     ]
    }
   ],
   "source": [
    "from collections import Counter\n",
    "print(Counter(y_test))\n",
    "print(Counter(y_pred_gnb))\n",
    "print(Counter(y_pred_rand))"
   ]
  },
  {
   "cell_type": "code",
   "execution_count": null,
   "id": "800c6b05",
   "metadata": {},
   "outputs": [],
   "source": []
  },
  {
   "cell_type": "code",
   "execution_count": null,
   "id": "ed82a871",
   "metadata": {},
   "outputs": [],
   "source": []
  },
  {
   "cell_type": "code",
   "execution_count": null,
   "id": "1935a109",
   "metadata": {},
   "outputs": [],
   "source": []
  }
 ],
 "metadata": {
  "kernelspec": {
   "display_name": "Python 3 (ipykernel)",
   "language": "python",
   "name": "python3"
  },
  "language_info": {
   "codemirror_mode": {
    "name": "ipython",
    "version": 3
   },
   "file_extension": ".py",
   "mimetype": "text/x-python",
   "name": "python",
   "nbconvert_exporter": "python",
   "pygments_lexer": "ipython3",
   "version": "3.9.7"
  }
 },
 "nbformat": 4,
 "nbformat_minor": 5
}
